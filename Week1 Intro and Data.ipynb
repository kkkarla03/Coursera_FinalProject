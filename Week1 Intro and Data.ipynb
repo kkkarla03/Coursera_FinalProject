{
 "cells": [
  {
   "cell_type": "markdown",
   "metadata": {},
   "source": [
    "IBM Data Science Capstone Project\n",
    "Classification of Istanbul Metro Stations\n",
    "\n",
    "By Karla Marie I. De Jesus"
   ]
  },
  {
   "cell_type": "markdown",
   "metadata": {},
   "source": [
    "INTRODUCTION\n",
    "\n",
    "    Istanbul – A bustling metropolis of 15 million people. The city of Byzantium or Constantinople, as this city was previously called, sits in the center of the world. It is a city located on the boundaries of Europe and Asia, with the Bosphorus Strait dividing the European and Asian side. Istanbul is never shy of stories to tell when it comes to history, as it has been the subject of many, many wars and rebellions just to get control of this strategic and wealthy city. From then until today, it hosts a mix of people of different cultural backgrounds, religion, even economic status. But disregarding its inhabitant’s backgrounds, each of these 15 million people has places to go to, every single day. So how does Istanbul manage to move 15 million people every day? The answer mainly lies on its very effective and convenient public transportation system. Although Istanbul is proud of its Metrobus and Bus systems, this paper will only focus on Metro Lines around the city. There are currently six working metro lines across the metropolis, called M1, M2, M3, M4, M5 and M6. However, constructions are ongoing for M7, M8 and M9, all envisioned to be completed by 2023. \n",
    "\n",
    "    The metro operates daily from 06:00- 00:00, while M1, M2, M4, M5  and M6 lines were declared to be operating at 24 hours during weekends and holidays. However, due to the corona virus, 24 hour operations were temporarily discontinued by the authorities. A flat fare of 3.50 TL is charged from the passenger by paying with a reloadable fare card called Istanbul Kart or by purchasing tokens from machines in metro stations. Istanbul Kart is the universal fare card in Istanbul which can also be used in busses, ferries, funiculars and trams. "
   ]
  },
  {
   "cell_type": "markdown",
   "metadata": {},
   "source": [
    "DATA\n",
    "\n",
    "    This paper will focus on the 89 stations of 6 metro lines. By using Foursquare location data, I will explore the different establishments located on a 1000-meter radius around each station. Each establishment is categorized by Foursquare accordingly. By identifying the types of establishments and its category, we will be able to identify which areas are excellent for a specific type of business. Some of the main categories to be used in this research are the following: Arts and Entertainment, College and University, Event, Food, Nightlife Spot, Outdoors and Recreation, Professional and Other Places, Residence, Shop and Service and Travel and Transport.\n",
    "\n",
    "    I will obtain the coordinates of each metro station from Foursquare as well as the establishment types around it. From this information, we can cluster each according to category and identify if they are in a desirable location for a new business. Because Istanbul is a very populous city, there is really no distinct classification on areas that are “commercial” or “residential”. What you would normally find are commercial establishments on the ground floor, and above it are residential flats. \n",
    "\n",
    "    This paper will be able to help entrepreneurs who are looking to open their business in a certain location, whether or not that location will be suitable for their business. Moreover, too much concentration of the same business in one area is not desirable for a new competitor. From the data that I will present, business owners can evaluate the potential of a certain location based on foot traffic and the types of establishments that already exists there. These are very important factors when considering the location of a new business. \n"
   ]
  }
 ],
 "metadata": {
  "kernelspec": {
   "display_name": "Python 3",
   "language": "python",
   "name": "python3"
  },
  "language_info": {
   "codemirror_mode": {
    "name": "ipython",
    "version": 3
   },
   "file_extension": ".py",
   "mimetype": "text/x-python",
   "name": "python",
   "nbconvert_exporter": "python",
   "pygments_lexer": "ipython3",
   "version": "3.7.6"
  }
 },
 "nbformat": 4,
 "nbformat_minor": 4
}
